{
  "cells": [
    {
      "cell_type": "markdown",
      "metadata": {
        "id": "view-in-github",
        "colab_type": "text"
      },
      "source": [
        "<a href=\"https://colab.research.google.com/github/Gargi001-source/-lab-agile-planning-/blob/main/Practise.ipynb\" target=\"_parent\"><img src=\"https://colab.research.google.com/assets/colab-badge.svg\" alt=\"Open In Colab\"/></a>"
      ]
    },
    {
      "cell_type": "code",
      "execution_count": null,
      "metadata": {
        "colab": {
          "base_uri": "https://localhost:8080/"
        },
        "id": "jlW0AHg3BoSZ",
        "outputId": "348dd907-f888-4f1f-d129-e77d31b8151d"
      },
      "outputs": [
        {
          "name": "stdout",
          "output_type": "stream",
          "text": [
            "Hello World \n"
          ]
        }
      ],
      "source": [
        "\"Hello World!\"\n",
        "print(\"Hello World \")"
      ]
    },
    {
      "cell_type": "code",
      "execution_count": null,
      "metadata": {
        "colab": {
          "base_uri": "https://localhost:8080/"
        },
        "id": "XRfFq1bXCblF",
        "outputId": "42f2243a-19bf-4e73-af75-c06e805d14c3"
      },
      "outputs": [
        {
          "name": "stdout",
          "output_type": "stream",
          "text": [
            "Hello, Workshop Particpitants!\n"
          ]
        }
      ],
      "source": [
        "\"Hello, Workshop Particpitants!\"\n",
        "print(\"Hello, Workshop Particpitants!\")"
      ]
    },
    {
      "cell_type": "code",
      "execution_count": null,
      "metadata": {
        "colab": {
          "base_uri": "https://localhost:8080/"
        },
        "id": "1vGCkOUbDUY4",
        "outputId": "7190d32f-7f09-4516-8f10-059daf83d7e6"
      },
      "outputs": [
        {
          "name": "stdout",
          "output_type": "stream",
          "text": [
            "Hello 1\n",
            "Hello 2\n",
            "Hello 3\n",
            "Hello 4\n",
            "Hello 5\n"
          ]
        }
      ],
      "source": [
        "for i in range (5):\n",
        "    print('Hello', i+1)"
      ]
    },
    {
      "cell_type": "code",
      "execution_count": null,
      "metadata": {
        "colab": {
          "base_uri": "https://localhost:8080/"
        },
        "id": "xsXXUPUiNjfs",
        "outputId": "47df8c45-6d79-4904-d154-7473ee42bdc8"
      },
      "outputs": [
        {
          "name": "stdout",
          "output_type": "stream",
          "text": [
            "1\n",
            "2\n",
            "3\n",
            "4\n",
            "5\n"
          ]
        }
      ],
      "source": [
        "i = 0\n",
        "while i < 5:\n",
        "      i += 1 # Increment i properly\n",
        "      print(i) # Use Python 3 print function"
      ]
    },
    {
      "cell_type": "code",
      "execution_count": null,
      "metadata": {
        "colab": {
          "base_uri": "https://localhost:8080/"
        },
        "id": "yFFPEVybN3vC",
        "outputId": "4c4a81d4-ebde-4391-a49f-ac2cb7d34a93"
      },
      "outputs": [
        {
          "name": "stdout",
          "output_type": "stream",
          "text": [
            "1\n",
            "2\n",
            "3\n",
            "4\n",
            "5\n"
          ]
        }
      ],
      "source": [
        "i = 0\n",
        "while i < 5:\n",
        "    i += 1  # Increment i properly\n",
        "    print(i)  # Use Python 3 print function"
      ]
    },
    {
      "cell_type": "code",
      "execution_count": null,
      "metadata": {
        "colab": {
          "base_uri": "https://localhost:8080/"
        },
        "id": "lVnpzByFOwGv",
        "outputId": "6483a9e6-397e-4ddd-dbe4-ec103064825f"
      },
      "outputs": [
        {
          "name": "stdout",
          "output_type": "stream",
          "text": [
            "Enter something: 45\n",
            "Enter something: 91\n",
            "Enter something: 63\n",
            "Enter something: 0\n",
            "We are done here\n"
          ]
        }
      ],
      "source": [
        "while True:\n",
        "    user_input = input ('Enter something: ')\n",
        "    if user_input.lower() == '0':\n",
        "        print ('We are done here')\n",
        "        break"
      ]
    },
    {
      "cell_type": "code",
      "execution_count": null,
      "metadata": {
        "id": "cD9cdTDeSeVA"
      },
      "outputs": [],
      "source": [
        "def get_internet ():\n",
        "    pass"
      ]
    },
    {
      "cell_type": "code",
      "execution_count": null,
      "metadata": {
        "colab": {
          "base_uri": "https://localhost:8080/"
        },
        "id": "a95drgKLxFH1",
        "outputId": "a71f197a-26b5-4f19-f2a2-87f459c112e6"
      },
      "outputs": [
        {
          "name": "stdout",
          "output_type": "stream",
          "text": [
            "This is the current year\n",
            "2025-04-16 09:48:08.597222\n"
          ]
        }
      ],
      "source": [
        "from datetime import datetime\n",
        "print('This is the current year')\n",
        "print(datetime.now())"
      ]
    },
    {
      "cell_type": "code",
      "execution_count": null,
      "metadata": {
        "colab": {
          "base_uri": "https://localhost:8080/",
          "height": 106
        },
        "id": "U5l7XUwD_7p5",
        "outputId": "7a048956-1f54-4a7a-be0c-bd52ecafa7e4"
      },
      "outputs": [
        {
          "ename": "IndentationError",
          "evalue": "unindent does not match any outer indentation level (<tokenize>, line 4)",
          "output_type": "error",
          "traceback": [
            "\u001b[0;36m  File \u001b[0;32m\"<tokenize>\"\u001b[0;36m, line \u001b[0;32m4\u001b[0m\n\u001b[0;31m    greet('Mario') # Function call moved outside the function definition\u001b[0m\n\u001b[0m    ^\u001b[0m\n\u001b[0;31mIndentationError\u001b[0m\u001b[0;31m:\u001b[0m unindent does not match any outer indentation level\n"
          ]
        }
      ],
      "source": [
        "def greet(name:str) -> None:\n",
        "    print(f'Hello, {name}!')\n",
        "\n",
        "  greet('Mario') # Function call moved outside the function definition\n",
        "  greet('Mary')\n",
        "\n"
      ]
    },
    {
      "cell_type": "code",
      "execution_count": null,
      "metadata": {
        "colab": {
          "base_uri": "https://localhost:8080/"
        },
        "id": "Z0tN2TtAR4GU",
        "outputId": "0f78af16-44f4-4ba0-c6b3-671d5961ab00"
      },
      "outputs": [
        {
          "name": "stdout",
          "output_type": "stream",
          "text": [
            "Ciao, Mario!\n",
            "Ciao, Mary!\n"
          ]
        }
      ],
      "source": [
        "def greet(name: str) -> None:\n",
        "    print(f'Ciao, {name}!')\n",
        "\n",
        "greet('Mario')  # Function call moved outside the function definition\n",
        "greet('Mary')"
      ]
    },
    {
      "cell_type": "code",
      "execution_count": null,
      "metadata": {
        "colab": {
          "base_uri": "https://localhost:8080/"
        },
        "id": "2AV37HC0EGCQ",
        "outputId": "0f78af16-44f4-4ba0-c6b3-671d5961ab00"
      },
      "outputs": [
        {
          "name": "stdout",
          "output_type": "stream",
          "text": [
            "Ciao, Mario!\n",
            "Ciao, Mary!\n"
          ]
        }
      ],
      "source": [
        "def greet(name: str) -> None:\n",
        "    print(f'Ciao, {name}!')\n",
        "\n",
        "greet('Mario')  # Function call moved outside the function definition\n",
        "greet('Mary')"
      ]
    },
    {
      "cell_type": "code",
      "execution_count": null,
      "metadata": {
        "colab": {
          "base_uri": "https://localhost:8080/"
        },
        "id": "fhY76H7VEg3h",
        "outputId": "d6c8a6c1-94e5-4678-b31e-895539f0d835"
      },
      "outputs": [
        {
          "name": "stdout",
          "output_type": "stream",
          "text": [
            "3\n"
          ]
        }
      ],
      "source": [
        "def add(a:float, b:float) -> float:\n",
        "    return a+b\n",
        "print (1+(2))"
      ]
    },
    {
      "cell_type": "code",
      "execution_count": null,
      "metadata": {
        "colab": {
          "base_uri": "https://localhost:8080/"
        },
        "id": "FK2YrkAaE5mX",
        "outputId": "0b15e128-8104-487d-ae30-764bb93786cf"
      },
      "outputs": [
        {
          "name": "stdout",
          "output_type": "stream",
          "text": [
            "6\n"
          ]
        }
      ],
      "source": [
        "def add(a:int, b:int, c: int) -> int:\n",
        "  return a+b+c\n",
        "print (1+(2)+(2))"
      ]
    },
    {
      "cell_type": "code",
      "execution_count": null,
      "metadata": {
        "id": "c6Y6RN1MHjZV"
      },
      "outputs": [],
      "source": [
        "  def solution(A):\n",
        "    if not A:  # Check if the list is empty\n",
        "        return -1\n",
        "\n",
        "    A.sort()  # Sort the list\n",
        "    for i in range(len(A) - 1):  # Loop through the list safely\n",
        "        if A[i] == A[i + 1]:  # Check for duplicates\n",
        "            return i\n",
        "\n",
        "    return -1  # Return -1 if no duplicates are found\n"
      ]
    },
    {
      "cell_type": "code",
      "execution_count": null,
      "metadata": {
        "id": "IJjKLYLQHoyH"
      },
      "outputs": [],
      "source": [
        "def solution(A):\n",
        "  if not A: #check is the list is empty\n",
        "      return 0\n",
        "\n",
        "  A.sort()  #Sort the list in ascending order\n",
        "  for i in range(len(A) - 1): # Loop through the list for the number of times the number of elements are in list\n",
        "      if A[i] == A[i+1]: #Check for duplicates\n",
        "          return i\n",
        "\n",
        "  return 100  # Return 100 if no duplicates are found"
      ]
    },
    {
      "cell_type": "code",
      "execution_count": null,
      "metadata": {
        "id": "crbA1kYIOa5C"
      },
      "outputs": [],
      "source": [
        "def get_grade(score):\n",
        "    if score >= 90: # if the score\n",
        "        return \"A\"\n",
        "    elif score >= 80:\n",
        "      return \"B\"\n",
        "    return \"C\""
      ]
    },
    {
      "cell_type": "code",
      "execution_count": null,
      "metadata": {
        "id": "Run8790KScaq"
      },
      "outputs": [],
      "source": [
        "def solution(n):\n",
        "    if n == 0:\n",
        "        return 1\n",
        "    elif n < 0:\n",
        "        return 0\n",
        "    else:\n",
        "        return solution(n-1) + solution(n-2) + solution(n-3)"
      ]
    },
    {
      "cell_type": "code",
      "execution_count": null,
      "metadata": {
        "id": "YV64xNbGEPxs"
      },
      "outputs": [],
      "source": [
        "def solution (N):\n",
        "    N=bin(N)[2:]\n",
        "    b=0\n",
        "    maxb=0\n",
        "    for i in N:\n",
        "        if int (i)==0:\n",
        "            b+=1\n",
        "        elif int (k) ==1:\n",
        "            maxb=max(maxb,b)\n",
        "            b=0\n",
        "    return maxb"
      ]
    },
    {
      "cell_type": "code",
      "execution_count": null,
      "metadata": {
        "colab": {
          "background_save": true,
          "base_uri": "https://localhost:8080/",
          "height": 211
        },
        "id": "Wd--ye9dEmg1",
        "outputId": "f360d968-7b20-457e-8c58-620e3b7f2a81"
      },
      "outputs": [
        {
          "ename": "NameError",
          "evalue": "name 'num' is not defined",
          "output_type": "error",
          "traceback": [
            "\u001b[0;31m---------------------------------------------------------------------------\u001b[0m",
            "\u001b[0;31mNameError\u001b[0m                                 Traceback (most recent call last)",
            "\u001b[0;32m<ipython-input-17-3c05f8d6cc68>\u001b[0m in \u001b[0;36m<cell line: 0>\u001b[0;34m()\u001b[0m\n\u001b[0;32m----> 1\u001b[0;31m \u001b[0mnum\u001b[0m \u001b[0;34m==\u001b[0m \u001b[0minput\u001b[0m\u001b[0;34m(\u001b[0m\u001b[0mint\u001b[0m\u001b[0;34m(\u001b[0m\u001b[0;34m\"Enter a number:\"\u001b[0m\u001b[0;34m)\u001b[0m\u001b[0;34m)\u001b[0m\u001b[0;34m\u001b[0m\u001b[0;34m\u001b[0m\u001b[0m\n\u001b[0m\u001b[1;32m      2\u001b[0m \u001b[0;32mif\u001b[0m \u001b[0mnum\u001b[0m \u001b[0;34m%\u001b[0m \u001b[0;36m2\u001b[0m \u001b[0;34m==\u001b[0m \u001b[0;36m0\u001b[0m\u001b[0;34m:\u001b[0m\u001b[0;34m\u001b[0m\u001b[0;34m\u001b[0m\u001b[0m\n\u001b[1;32m      3\u001b[0m     \u001b[0mprint\u001b[0m\u001b[0;34m(\u001b[0m\u001b[0;34m\"the number is even\"\u001b[0m\u001b[0;34m)\u001b[0m\u001b[0;34m\u001b[0m\u001b[0;34m\u001b[0m\u001b[0m\n\u001b[1;32m      4\u001b[0m \u001b[0;32melse\u001b[0m\u001b[0;34m:\u001b[0m\u001b[0;34m\u001b[0m\u001b[0;34m\u001b[0m\u001b[0m\n\u001b[1;32m      5\u001b[0m     \u001b[0mprint\u001b[0m\u001b[0;34m(\u001b[0m\u001b[0;34m\"the number  is odd\"\u001b[0m\u001b[0;34m)\u001b[0m\u001b[0;34m\u001b[0m\u001b[0;34m\u001b[0m\u001b[0m\n",
            "\u001b[0;31mNameError\u001b[0m: name 'num' is not defined"
          ]
        }
      ],
      "source": [
        "num == input (int(\"Enter a number:\"))\n",
        "num == int(input)\n",
        "if num%2 == 0:\n",
        "    print(\"the number is even\")\n",
        "else:\n",
        "    print(\"the number  is odd\")"
      ]
    }
  ],
  "metadata": {
    "colab": {
      "provenance": [],
      "authorship_tag": "ABX9TyPaWsm9CMQY7XewxoRlzB/+",
      "include_colab_link": true
    },
    "kernelspec": {
      "display_name": "Python 3",
      "name": "python3"
    },
    "language_info": {
      "name": "python"
    }
  },
  "nbformat": 4,
  "nbformat_minor": 0
}